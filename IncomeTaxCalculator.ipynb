{
 "cells": [
  {
   "cell_type": "markdown",
   "metadata": {},
   "source": [
    "# Income Tax Calculator \n",
    "\n",
    "The program computes the income tax for an individual whose filing status is \"Single\". The program asks the user to enter the total taxable income for the year. The program then uses the tax brackets (as shown below) to calculate the tax amount:\n",
    "    10% on taxable income from $0 to $9,525, plus\n",
    "    12% on taxable income over $9,526 to $38,700, plus\n",
    "    22% on taxable income over $38,701 to $82,500, plus\n",
    "    24% on taxable income over $82,501 to $157,500, plus\n",
    "    32% on taxable income over $157,501 to $200,000, plus\n",
    "    35% on taxable income over $200,001 to $500,000, plus\n",
    "    37% on taxable income over $500,001 or more\n",
    "The program displays the total tax due to the user.\n",
    "\n",
    "Input: Amount of taxable income\n",
    "\n",
    "Output: Amount of tax due\n"
   ]
  },
  {
   "cell_type": "code",
   "execution_count": 1,
   "metadata": {},
   "outputs": [
    {
     "name": "stdout",
     "output_type": "stream",
     "text": [
      "Please enter the amount of your income\n",
      "-7865\n",
      "For income of $-7,865, the amount of tax due is $-786.50\n"
     ]
    }
   ],
   "source": [
    "import math # import the math module for using the ceil() function\n",
    "# Define the formatter for float value, with thousands separator and two digits after the decimal point\n",
    "formatterFloat = \"{amount:,.2f}\"\n",
    "# Define the formatter for integer value, with thousands separator\n",
    "formatterInt = \"{amount:,d}\"\n",
    "\n",
    "# define the threshold for each bracket\n",
    "CUTOFF_1 = 9525\n",
    "CUTOFF_2 = 38700\n",
    "CUTOFF_3 = 82500\n",
    "CUTOFF_4 = 157500\n",
    "CUTOFF_5 = 200000\n",
    "CUTOFF_6 = 500000\n",
    "\n",
    "# define the tax rate for each bracket\n",
    "RATE_1 = 0.10\n",
    "RATE_2 = 0.12\n",
    "RATE_3 = 0.22\n",
    "RATE_4 = 0.24\n",
    "RATE_5 = 0.32\n",
    "RATE_6 = 0.35\n",
    "RATE_7 = 0.37\n",
    "\n",
    "# calcualte the tax due for each bracket\n",
    "bracket1 = CUTOFF_1 * RATE_1\n",
    "bracket2AndBelow = bracket1+(CUTOFF_2-CUTOFF_1) * RATE_2\n",
    "bracket3AndBelow = bracket2AndBelow+(CUTOFF_3-CUTOFF_2) * RATE_3\n",
    "bracket4AndBelow = bracket3AndBelow+(CUTOFF_4-CUTOFF_3) * RATE_4\n",
    "bracket5AndBelow = bracket4AndBelow+(CUTOFF_5-CUTOFF_4) * RATE_5\n",
    "bracket6AndBelow = bracket5AndBelow+(CUTOFF_6-CUTOFF_5) * RATE_6\n",
    "\n",
    "# Get user's input for the taxable income\n",
    "print('Please enter the amount of your income')\n",
    "income = float(input())\n",
    "# round the number up to the next whole number\n",
    "income = math.ceil(income)\n",
    "\n",
    "# determine which bracket the income falls into\n",
    "if income <= CUTOFF_1: # within the bracket 1\n",
    "    taxDue = income * RATE_1\n",
    "elif income <= CUTOFF_2: # within the bracket 2\n",
    "    # the amount is the tax in bracket 1 + the amount in bracket 2\n",
    "    taxDue = bracket1 + (income - CUTOFF_1) * RATE_2\n",
    "elif income <= CUTOFF_3: # within the bracket 3\n",
    "    # the amount is the tax in bracket 1 to 2 + the amount in bracket 3\n",
    "    taxDue = bracket2AndBelow + (income - CUTOFF_2) * RATE_3\n",
    "elif income <= CUTOFF_4:# within the bracket 4\n",
    "    # the amount is the tax in bracket 1 to 3 + the amount in bracket 4\n",
    "    taxDue = bracket3AndBelow + (income - CUTOFF_3) * RATE_4    \n",
    "elif income <= CUTOFF_5:# within the bracket 5\n",
    "    # the amount is the tax in bracket 1 to 4 + the amount in bracket 5\n",
    "    taxDue = bracket4AndBelow + (income - CUTOFF_4) * RATE_5\n",
    "elif income <= CUTOFF_6:# within the bracket 6\n",
    "    # the amount is the tax in bracket 1 to 5 + the amount in bracket 6\n",
    "    taxDue = bracket5AndBelow + (income - CUTOFF_5) * RATE_6   \n",
    "else: # above \n",
    "    # the amount is the tax in bracket 1 to 6 + the amount above\n",
    "    taxDue = bracket6AndBelow + (income - CUTOFF_6) * RATE_7\n",
    "\n",
    "# display the outcome.    \n",
    "print('For income of $'+formatterInt.format(amount=income), end='')  #print the input\n",
    "print(', the amount of tax due is $'+formatterFloat.format(amount=taxDue))    # print the result"
   ]
  },
  {
   "cell_type": "code",
   "execution_count": null,
   "metadata": {},
   "outputs": [],
   "source": []
  }
 ],
 "metadata": {
  "kernelspec": {
   "display_name": "Python 3",
   "language": "python",
   "name": "python3"
  },
  "language_info": {
   "codemirror_mode": {
    "name": "ipython",
    "version": 3
   },
   "file_extension": ".py",
   "mimetype": "text/x-python",
   "name": "python",
   "nbconvert_exporter": "python",
   "pygments_lexer": "ipython3",
   "version": "3.7.3"
  }
 },
 "nbformat": 4,
 "nbformat_minor": 2
}
